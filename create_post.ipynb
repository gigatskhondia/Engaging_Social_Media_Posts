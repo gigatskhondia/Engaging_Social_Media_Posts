{
 "cells": [
  {
   "cell_type": "code",
   "execution_count": 1,
   "metadata": {},
   "outputs": [],
   "source": [
    "from parlai.scripts.interactive import setup_args\n",
    "from parlai.core.agents import create_agent\n",
    "from parlai.core.worlds import create_task\n",
    "from parlai.core.image_featurizers import ImageLoader"
   ]
  },
  {
   "cell_type": "code",
   "execution_count": 2,
   "metadata": {},
   "outputs": [],
   "source": [
    "import cgi\n",
    "import PIL.Image as IM\n",
    "from base64 import b64decode\n",
    "import io\n",
    "import os\n",
    "import base64"
   ]
  },
  {
   "cell_type": "code",
   "execution_count": 3,
   "metadata": {},
   "outputs": [],
   "source": [
    "from os import walk"
   ]
  },
  {
   "cell_type": "code",
   "execution_count": 4,
   "metadata": {},
   "outputs": [],
   "source": [
    "import json\n",
    "import nltk\n",
    "import random\n",
    "import numpy as np\n",
    "from sklearn.feature_extraction.text import TfidfVectorizer\n",
    "\n",
    "from sklearn.model_selection import StratifiedKFold\n",
    "from sklearn.model_selection import KFold\n",
    "from sklearn.model_selection import cross_val_score\n",
    "from scipy.sparse import csr_matrix"
   ]
  },
  {
   "cell_type": "code",
   "execution_count": 5,
   "metadata": {},
   "outputs": [
    {
     "name": "stderr",
     "output_type": "stream",
     "text": [
      "/home/georgy/anaconda3/lib/python3.6/site-packages/tensorflow/python/framework/dtypes.py:523: FutureWarning: Passing (type, 1) or '1type' as a synonym of type is deprecated; in a future version of numpy, it will be understood as (type, (1,)) / '(1,)type'.\n",
      "  _np_qint8 = np.dtype([(\"qint8\", np.int8, 1)])\n",
      "/home/georgy/anaconda3/lib/python3.6/site-packages/tensorflow/python/framework/dtypes.py:524: FutureWarning: Passing (type, 1) or '1type' as a synonym of type is deprecated; in a future version of numpy, it will be understood as (type, (1,)) / '(1,)type'.\n",
      "  _np_quint8 = np.dtype([(\"quint8\", np.uint8, 1)])\n",
      "/home/georgy/anaconda3/lib/python3.6/site-packages/tensorflow/python/framework/dtypes.py:525: FutureWarning: Passing (type, 1) or '1type' as a synonym of type is deprecated; in a future version of numpy, it will be understood as (type, (1,)) / '(1,)type'.\n",
      "  _np_qint16 = np.dtype([(\"qint16\", np.int16, 1)])\n",
      "/home/georgy/anaconda3/lib/python3.6/site-packages/tensorflow/python/framework/dtypes.py:526: FutureWarning: Passing (type, 1) or '1type' as a synonym of type is deprecated; in a future version of numpy, it will be understood as (type, (1,)) / '(1,)type'.\n",
      "  _np_quint16 = np.dtype([(\"quint16\", np.uint16, 1)])\n",
      "/home/georgy/anaconda3/lib/python3.6/site-packages/tensorflow/python/framework/dtypes.py:527: FutureWarning: Passing (type, 1) or '1type' as a synonym of type is deprecated; in a future version of numpy, it will be understood as (type, (1,)) / '(1,)type'.\n",
      "  _np_qint32 = np.dtype([(\"qint32\", np.int32, 1)])\n",
      "/home/georgy/anaconda3/lib/python3.6/site-packages/tensorflow/python/framework/dtypes.py:532: FutureWarning: Passing (type, 1) or '1type' as a synonym of type is deprecated; in a future version of numpy, it will be understood as (type, (1,)) / '(1,)type'.\n",
      "  np_resource = np.dtype([(\"resource\", np.ubyte, 1)])\n"
     ]
    }
   ],
   "source": [
    "from nltk.stem import SnowballStemmer\n",
    "from nltk.corpus import stopwords\n",
    "import tensorflow as tf"
   ]
  },
  {
   "cell_type": "code",
   "execution_count": 6,
   "metadata": {},
   "outputs": [
    {
     "name": "stderr",
     "output_type": "stream",
     "text": [
      "Using TensorFlow backend.\n"
     ]
    }
   ],
   "source": [
    "from keras.models import model_from_json"
   ]
  },
  {
   "cell_type": "code",
   "execution_count": 7,
   "metadata": {},
   "outputs": [],
   "source": [
    "from collections import Counter\n",
    "from sklearn.feature_extraction.text import CountVectorizer\n",
    "from sklearn.metrics.pairwise import cosine_similarity"
   ]
  },
  {
   "cell_type": "code",
   "execution_count": 8,
   "metadata": {},
   "outputs": [],
   "source": [
    "from IPython.display import Image"
   ]
  },
  {
   "cell_type": "code",
   "execution_count": 9,
   "metadata": {},
   "outputs": [],
   "source": [
    "os.environ[\"CUDA_VISIBLE_DEVICES\"]=\"-1\""
   ]
  },
  {
   "cell_type": "markdown",
   "metadata": {},
   "source": [
    "## Paths dev"
   ]
  },
  {
   "cell_type": "code",
   "execution_count": 12,
   "metadata": {},
   "outputs": [],
   "source": [
    "# captioning\n",
    "opt_download_path =''\n",
    "opt_datapath=''\n",
    "opt_parlai_home=''\n",
    "opt_model_file = './transresnet/model'\n",
    "opt_fixed_cands_path='./transresnet/candidates.txt'\n",
    "\n",
    "#classification\n",
    "classification_model_json= './keras_model/per_model.json'\n",
    "classification_model_weights= './keras_model/per_model.h5'"
   ]
  },
  {
   "cell_type": "markdown",
   "metadata": {},
   "source": [
    "## Captioning utils"
   ]
  },
  {
   "cell_type": "code",
   "execution_count": 13,
   "metadata": {},
   "outputs": [],
   "source": [
    "opt={'init_opt': None, \n",
    "     'show_advanced_args': False, \n",
    "     'task': 'interactive',\n",
    "     'download_path': opt_download_path, \n",
    "     'datatype': 'train',\n",
    "     'image_mode': 'raw', \n",
    "     'numthreads': 1,\n",
    "     'hide_labels': False,\n",
    "     'multitask_weights': [1],\n",
    "     'batchsize': 1,\n",
    "     'datapath': opt_datapath, \n",
    "     'model': None, \n",
    "     'model_file': opt_model_file, \n",
    "     'init_model': None, \n",
    "     'dict_class': None, \n",
    "     'display_examples': False, \n",
    "     'display_prettify': False, \n",
    "     'display_ignore_fields': \n",
    "     'label_candidates,text_candidates', \n",
    "     'interactive_task': True, \n",
    "     'local_human_candidates_file': None,\n",
    "     'single_turn': False,\n",
    "     'image_size': 256,\n",
    "     'image_cropsize': 224,\n",
    "     'embedding_size': 300, \n",
    "     'n_layers': 2, \n",
    "     'ffn_size': 1200, \n",
    "     'dropout': 0.0, \n",
    "     'attention_dropout': 0.2,\n",
    "     'relu_dropout': 0.2, \n",
    "     'n_heads': 2,\n",
    "     'learn_positional_embeddings': False,\n",
    "     'embeddings_scale': True,\n",
    "     'n_positions': 1000, \n",
    "     'n_segments': 0,\n",
    "     'variant': 'aiayn',\n",
    "     'activation': 'relu',\n",
    "     'output_scaling': 1.0, \n",
    "     'share_word_embeddings': True,\n",
    "     'truncate': 32, \n",
    "     'image_features_dim': 2048,\n",
    "     'embedding_type': None,\n",
    "     'load_encoder_from': None, \n",
    "     'hidden_dim': 300, \n",
    "     'num_layers_all': -1,\n",
    "     'num_layers_text_encoder': 1,\n",
    "     'num_layers_image_encoder': 1,\n",
    "     'no_cuda': False, \n",
    "     'learningrate': 0.0005,\n",
    "     'additional_layer_dropout': 0.2, \n",
    "     'freeze_patience': -1, \n",
    "     'one_cand_set': False, \n",
    "     'fixed_cands_path': None,\n",
    "     'pretrained': False, \n",
    "     'dict_file': None,\n",
    "     'dict_initpath': None, \n",
    "     'dict_language': 'english',\n",
    "     'dict_max_ngram_size': -1,\n",
    "     'dict_minfreq': 0, \n",
    "     'dict_maxtokens': -1, \n",
    "     'dict_nulltoken': '__null__',\n",
    "     'dict_starttoken': '__start__', \n",
    "     'dict_endtoken': '__end__',\n",
    "     'dict_unktoken': '__unk__',\n",
    "     'dict_tokenizer': 're',\n",
    "     'dict_lower': False, \n",
    "     'bpe_debug': False, \n",
    "     'dict_textfields': 'text,labels',\n",
    "     'interactive_mode': True, \n",
    "     'parlai_home': opt_parlai_home, \n",
    "     'override': {'ffn_size': 1200,\n",
    "                  'attention_dropout': 0.2,\n",
    "                  'relu_dropout': 0.2, \n",
    "                  'n_positions': 1000,\n",
    "                  'model_file': opt_model_file},\n",
    "                 'starttime': 'Aug20_13-01'}"
   ]
  },
  {
   "cell_type": "code",
   "execution_count": 14,
   "metadata": {},
   "outputs": [],
   "source": [
    "opt['fixed_cands_path'] = opt_fixed_cands_path"
   ]
  },
  {
   "cell_type": "code",
   "execution_count": 15,
   "metadata": {},
   "outputs": [],
   "source": [
    "opt['task'] = 'parlai.agents.local_human.local_human:LocalHumanAgent'\n",
    "opt['image_mode'] = 'resnet152'\n",
    "opt['no_cuda'] = True\n",
    "opt['override']['no_cuda'] = True"
   ]
  },
  {
   "cell_type": "code",
   "execution_count": 16,
   "metadata": {},
   "outputs": [
    {
     "name": "stderr",
     "output_type": "stream",
     "text": [
      "/home/georgy/anaconda3/lib/python3.6/site-packages/torchvision/transforms/transforms.py:211: UserWarning: The use of the transforms.Scale transform is deprecated, please use transforms.Resize instead.\n",
      "  \"please use transforms.Resize instead.\")\n"
     ]
    },
    {
     "name": "stdout",
     "output_type": "stream",
     "text": [
      "[ warning: overriding opt['attention_dropout'] to 0.2 (previously: None )]\n",
      "[ warning: overriding opt['relu_dropout'] to 0.2 (previously: None )]\n",
      "[ warning: overriding opt['n_positions'] to 1000 (previously: None )]\n",
      "[ warning: overriding opt['model_file'] to ./transresnet/model (previously: pers_cap_model_best_resnet )]\n",
      "[ warning: overriding opt['no_cuda'] to True (previously: False )]\n",
      "Dictionary: loading dictionary from ./transresnet/model.dict\n"
     ]
    },
    {
     "name": "stderr",
     "output_type": "stream",
     "text": [
      "/home/georgy/ParlAI/parlai/agents/transformer/modules.py:32: UserWarning: Installing APEX can give a significant speed boost.\n",
      "  warn_once(\"Installing APEX can give a significant speed boost.\")\n"
     ]
    },
    {
     "name": "stdout",
     "output_type": "stream",
     "text": [
      "[ num words =  250006 ]\n",
      "Creating or loading model\n",
      "loading saved cand encodings\n",
      "[creating task(s): parlai.agents.local_human.local_human:LocalHumanAgent]\n",
      "Enter [DONE] if you want to end the episode.\n",
      "\n"
     ]
    }
   ],
   "source": [
    "SHARED = {}\n",
    "SHARED['opt'] = opt\n",
    "SHARED['image_loader'] = ImageLoader(opt)\n",
    "# Create model and assign it to the specified task\n",
    "SHARED['agent'] = create_agent(opt, requireModelExists=True)\n",
    "SHARED['world'] = create_task(opt, SHARED['agent'])"
   ]
  },
  {
   "cell_type": "code",
   "execution_count": 87,
   "metadata": {},
   "outputs": [],
   "source": [
    "def engaging_image_captions(folder_path, personality):\n",
    "    out = {}\n",
    "    \n",
    "    reply = {}\n",
    "    reply['text']=personality\n",
    "    \n",
    "    f = []\n",
    "    for (dirpath, dirnames, filenames) in walk(folder_path):\n",
    "        f.extend(filenames)\n",
    "        break\n",
    "\n",
    "    for i in range(len(f)):\n",
    "        try:   \n",
    "            f[i]=folder_path +f[i]\n",
    "            with open(f[i], mode='rb') as file:\n",
    "                img = file.read()\n",
    "            encoded = base64.encodebytes(img).decode(\"utf-8\") \n",
    "\n",
    "            image = IM.open(io.BytesIO(b64decode(encoded))).convert('RGB')\n",
    "            reply['image'] = SHARED['image_loader'].extract(image)\n",
    "            SHARED['agent'].observe(reply)\n",
    "            model_res = SHARED['agent'].act()  \n",
    "            out[f[i]]=model_res['text']\n",
    "        except:\n",
    "            continue\n",
    "            \n",
    "    return out  "
   ]
  },
  {
   "cell_type": "markdown",
   "metadata": {},
   "source": [
    "## Restoring classification model"
   ]
  },
  {
   "cell_type": "code",
   "execution_count": 18,
   "metadata": {},
   "outputs": [
    {
     "name": "stdout",
     "output_type": "stream",
     "text": [
      "Loaded model from disk\n"
     ]
    }
   ],
   "source": [
    "# load json and create model\n",
    "json_file = open(classification_model_json, 'r')\n",
    "loaded_model_json = json_file.read()\n",
    "json_file.close()\n",
    "loaded_model = model_from_json(loaded_model_json)\n",
    "# load weights into new model\n",
    "loaded_model.load_weights(classification_model_weights)\n",
    "print(\"Loaded model from disk\")\n",
    " \n",
    "# evaluate loaded model on test data\n",
    "with tf.device('/cpu:0'):\n",
    "    loaded_model.compile(loss='categorical_crossentropy', optimizer='adam', metrics=['accuracy'])"
   ]
  },
  {
   "cell_type": "code",
   "execution_count": 19,
   "metadata": {},
   "outputs": [
    {
     "name": "stdout",
     "output_type": "stream",
     "text": [
      "_________________________________________________________________\n",
      "Layer (type)                 Output Shape              Param #   \n",
      "=================================================================\n",
      "embedding_2 (Embedding)      (None, 114, 150)          5092650   \n",
      "_________________________________________________________________\n",
      "flatten_2 (Flatten)          (None, 17100)             0         \n",
      "_________________________________________________________________\n",
      "dense_4 (Dense)              (None, 500)               8550500   \n",
      "_________________________________________________________________\n",
      "dropout_3 (Dropout)          (None, 500)               0         \n",
      "_________________________________________________________________\n",
      "dense_5 (Dense)              (None, 500)               250500    \n",
      "_________________________________________________________________\n",
      "dropout_4 (Dropout)          (None, 500)               0         \n",
      "_________________________________________________________________\n",
      "dense_6 (Dense)              (None, 217)               108717    \n",
      "=================================================================\n",
      "Total params: 14,002,367\n",
      "Trainable params: 14,002,367\n",
      "Non-trainable params: 0\n",
      "_________________________________________________________________\n"
     ]
    }
   ],
   "source": [
    "loaded_model.summary()"
   ]
  },
  {
   "cell_type": "code",
   "execution_count": 20,
   "metadata": {},
   "outputs": [
    {
     "data": {
      "text/plain": [
       "'embedding_2'"
      ]
     },
     "execution_count": 20,
     "metadata": {},
     "output_type": "execute_result"
    }
   ],
   "source": [
    "loaded_model.layers[0].name"
   ]
  },
  {
   "cell_type": "code",
   "execution_count": 21,
   "metadata": {},
   "outputs": [],
   "source": [
    "persona_dic = {0: 'Abrasive (Annoying, Irritating)',\n",
    " 1: 'Absentminded',\n",
    " 2: 'Adventurous',\n",
    " 3: 'Aggressive',\n",
    " 4: 'Airy (Casual, Not Serious)',\n",
    " 5: 'Aloof (Detached, Distant)',\n",
    " 6: 'Amusing',\n",
    " 7: 'Angry',\n",
    " 8: 'Anxious',\n",
    " 9: 'Apathetic (Uncaring, Disinterested)',\n",
    " 10: 'Appreciative (Grateful)',\n",
    " 11: 'Argumentative',\n",
    " 12: 'Arrogant',\n",
    " 13: 'Artful',\n",
    " 14: 'Articulate (Well-spoken, Expressive)',\n",
    " 15: 'Artificial',\n",
    " 16: 'Assertive',\n",
    " 17: 'Attractive',\n",
    " 18: 'Barbaric',\n",
    " 19: 'Bewildered (Astonished, Confused)',\n",
    " 20: 'Bizarre',\n",
    " 21: 'Bland',\n",
    " 22: 'Blunt',\n",
    " 23: 'Boisterous (Rowdy, Loud)',\n",
    " 24: 'Boyish',\n",
    " 25: 'Breezy (Relaxed, Informal)',\n",
    " 26: 'Brilliant',\n",
    " 27: 'Businesslike',\n",
    " 28: 'Calm',\n",
    " 29: 'Captivating',\n",
    " 30: 'Caring',\n",
    " 31: 'Casual',\n",
    " 32: 'Cerebral (Intellectual, Logical)',\n",
    " 33: 'Charming',\n",
    " 34: 'Cheerful',\n",
    " 35: 'Childish',\n",
    " 36: 'Clever',\n",
    " 37: 'Coarse (Not Fine, Crass)',\n",
    " 38: 'Cold',\n",
    " 39: 'Colorful (Full of Life, Interesting)',\n",
    " 40: 'Compassionate (Sympathetic, Warm)',\n",
    " 41: 'Complex',\n",
    " 42: 'Conceited (Arrogant, Egotistical)',\n",
    " 43: 'Confident',\n",
    " 44: 'Confused',\n",
    " 45: 'Conservative (Traditional, Conventional)',\n",
    " 46: 'Considerate',\n",
    " 47: 'Contemplative (Reflective, Thoughtful)',\n",
    " 48: 'Contemptible (Despicable, Vile)',\n",
    " 49: 'Contradictory',\n",
    " 50: 'Courageous',\n",
    " 51: 'Cowardly',\n",
    " 52: 'Crazy',\n",
    " 53: 'Creative',\n",
    " 54: 'Critical',\n",
    " 55: 'Crude',\n",
    " 56: 'Cruel',\n",
    " 57: 'Cultured (Refined, Educated)',\n",
    " 58: 'Curious',\n",
    " 59: 'Cute',\n",
    " 60: 'Cynical (Doubtful, Skeptical)',\n",
    " 61: 'Daring',\n",
    " 62: 'Deep',\n",
    " 63: 'Destructive',\n",
    " 64: 'Devious',\n",
    " 65: 'Discouraging',\n",
    " 66: 'Disturbing',\n",
    " 67: 'Dramatic',\n",
    " 68: 'Dreamy',\n",
    " 69: 'Dry',\n",
    " 70: 'Dull',\n",
    " 71: 'Earnest',\n",
    " 72: 'Earnest (Enthusiastic)',\n",
    " 73: 'Egocentric (Self-centered)',\n",
    " 74: 'Elegant',\n",
    " 75: 'Eloquent (Well-spoken, Expressive)',\n",
    " 76: 'Emotional',\n",
    " 77: 'Empathetic',\n",
    " 78: 'Energetic',\n",
    " 79: 'Enigmatic (Cryptic, Obscure)',\n",
    " 80: 'Enthusiastic',\n",
    " 81: 'Envious',\n",
    " 82: 'Erratic',\n",
    " 83: 'Escapist (Dreamer, Seeks Distraction)',\n",
    " 84: 'Excitable',\n",
    " 85: 'Exciting',\n",
    " 86: 'Extraordinary',\n",
    " 87: 'Extravagant',\n",
    " 88: 'Extreme',\n",
    " 89: 'Fanatical',\n",
    " 90: 'Fanciful',\n",
    " 91: 'Fatalistic (Bleak, Gloomy)',\n",
    " 92: 'Fawning (Flattering, Deferential)',\n",
    " 93: 'Fearful',\n",
    " 94: 'Fickle (Changeable, Temperamental)',\n",
    " 95: 'Fiery',\n",
    " 96: 'Foolish',\n",
    " 97: 'Formal',\n",
    " 98: 'Freethinking',\n",
    " 99: 'Frightening',\n",
    " 100: 'Frivolous (Trivial, Silly)',\n",
    " 101: 'Fun-loving',\n",
    " 102: 'Gentle',\n",
    " 103: 'Glamorous',\n",
    " 104: 'Gloomy',\n",
    " 105: 'Grand',\n",
    " 106: 'Grim',\n",
    " 107: 'Happy',\n",
    " 108: 'Hateful',\n",
    " 109: 'Haughty (Arrogant, Snobbish)',\n",
    " 110: 'High-spirited',\n",
    " 111: 'Honest',\n",
    " 112: 'Hostile',\n",
    " 113: 'Humble',\n",
    " 114: 'Humorous',\n",
    " 115: 'Idealistic',\n",
    " 116: 'Imaginative',\n",
    " 117: 'Impersonal',\n",
    " 118: 'Insightful',\n",
    " 119: 'Intelligent',\n",
    " 120: 'Intense',\n",
    " 121: 'Irrational',\n",
    " 122: 'Irritable',\n",
    " 123: 'Kind',\n",
    " 124: 'Knowledgeable',\n",
    " 125: 'Lazy',\n",
    " 126: 'Logical',\n",
    " 127: 'Malicious',\n",
    " 128: 'Maternal (Mother-like)',\n",
    " 129: 'Melancholic',\n",
    " 130: 'Mellow (Soothing, Sweet)',\n",
    " 131: 'Meticulous (Precise, Thorough)',\n",
    " 132: 'Miserable',\n",
    " 133: 'Money-minded',\n",
    " 134: 'Monstrous',\n",
    " 135: 'Moody',\n",
    " 136: 'Morbid',\n",
    " 137: 'Mystical',\n",
    " 138: 'Narcissistic (Self-centered, Egotistical)',\n",
    " 139: 'Neurotic (Manic, Obsessive)',\n",
    " 140: 'Neutral',\n",
    " 141: 'Nihilistic',\n",
    " 142: 'Objective (Detached, Impartial)',\n",
    " 143: 'Obnoxious',\n",
    " 144: 'Observant',\n",
    " 145: 'Obsessive',\n",
    " 146: 'Odd',\n",
    " 147: 'Offhand',\n",
    " 148: 'Old-fashioned',\n",
    " 149: 'Open',\n",
    " 150: 'Opinionated',\n",
    " 151: 'Optimistic',\n",
    " 152: 'Ordinary',\n",
    " 153: 'Outrageous',\n",
    " 154: 'Overimaginative',\n",
    " 155: 'Paranoid',\n",
    " 156: 'Passionate',\n",
    " 157: 'Passive',\n",
    " 158: 'Patriotic',\n",
    " 159: 'Peaceful',\n",
    " 160: 'Perceptive',\n",
    " 161: 'Playful',\n",
    " 162: 'Pompous (Self-important, Arrogant)',\n",
    " 163: 'Practical',\n",
    " 164: 'Pretentious (Snobbish, Showy)',\n",
    " 165: 'Profound',\n",
    " 166: 'Provocative',\n",
    " 167: 'Questioning',\n",
    " 168: 'Quirky',\n",
    " 169: 'Rational',\n",
    " 170: 'Realistic',\n",
    " 171: 'Reflective',\n",
    " 172: 'Relaxed',\n",
    " 173: 'Resentful',\n",
    " 174: 'Respectful',\n",
    " 175: 'Ridiculous',\n",
    " 176: 'Rigid',\n",
    " 177: 'Romantic',\n",
    " 178: 'Rowdy',\n",
    " 179: 'Rustic (Rural)',\n",
    " 180: 'Sarcastic',\n",
    " 181: 'Scholarly',\n",
    " 182: 'Scornful',\n",
    " 183: 'Sensitive',\n",
    " 184: 'Sensual',\n",
    " 185: 'Sentimental',\n",
    " 186: 'Serious',\n",
    " 187: 'Shy',\n",
    " 188: 'Silly',\n",
    " 189: 'Simple',\n",
    " 190: 'Skeptical',\n",
    " 191: 'Solemn',\n",
    " 192: 'Sophisticated',\n",
    " 193: 'Spirited',\n",
    " 194: 'Spontaneous',\n",
    " 195: 'Stiff',\n",
    " 196: 'Stoic (Unemotional, Matter-of-fact)',\n",
    " 197: 'Stupid',\n",
    " 198: 'Stylish',\n",
    " 199: 'Suave (Charming, Smooth)',\n",
    " 200: 'Sweet',\n",
    " 201: 'Sympathetic',\n",
    " 202: 'Tense',\n",
    " 203: 'Tough',\n",
    " 204: 'Uncreative',\n",
    " 205: 'Unimaginative',\n",
    " 206: 'Unrealistic',\n",
    " 207: 'Vacuous (Empty, Unintelligent)',\n",
    " 208: 'Vague',\n",
    " 209: 'Vivacious (Lively, Animated)',\n",
    " 210: 'Warm',\n",
    " 211: 'Whimsical (Playful, Fanciful)',\n",
    " 212: 'Wise',\n",
    " 213: 'Wishful',\n",
    " 214: 'Witty',\n",
    " 215: 'Youthful',\n",
    " 216: 'Zany'}"
   ]
  },
  {
   "cell_type": "code",
   "execution_count": 22,
   "metadata": {},
   "outputs": [],
   "source": [
    "from tensorflow.python.keras.preprocessing.text import Tokenizer\n",
    "import pandas as pd\n",
    "from tensorflow.python.keras.preprocessing.sequence import pad_sequences\n"
   ]
  },
  {
   "cell_type": "code",
   "execution_count": 23,
   "metadata": {},
   "outputs": [],
   "source": [
    "df=pd.read_json('./personality_captions/train.json')"
   ]
  },
  {
   "cell_type": "code",
   "execution_count": 24,
   "metadata": {},
   "outputs": [],
   "source": [
    "tokenizer_obj=Tokenizer()\n",
    "tokenizer_obj.fit_on_texts(df.comment)"
   ]
  },
  {
   "cell_type": "code",
   "execution_count": 25,
   "metadata": {},
   "outputs": [],
   "source": [
    "def classify(test_sentence, persona_dic, loaded_model, tokenizer_obj):\n",
    "    sent=[test_sentence]\n",
    "    x_train_tokens=tokenizer_obj.texts_to_sequences(sent)\n",
    "    x_train_pad=pad_sequences(x_train_tokens, maxlen=114, padding='post')\n",
    "   \n",
    "    result=loaded_model.predict(x=x_train_pad)\n",
    "    return persona_dic[np.argmax(result)]"
   ]
  },
  {
   "cell_type": "code",
   "execution_count": 26,
   "metadata": {},
   "outputs": [],
   "source": [
    "test_sentence='Nice beard my friend! want to compete with my'"
   ]
  },
  {
   "cell_type": "code",
   "execution_count": 27,
   "metadata": {},
   "outputs": [
    {
     "data": {
      "text/plain": [
       "'Playful'"
      ]
     },
     "execution_count": 27,
     "metadata": {},
     "output_type": "execute_result"
    }
   ],
   "source": [
    "classify(test_sentence, persona_dic, loaded_model, tokenizer_obj)"
   ]
  },
  {
   "cell_type": "markdown",
   "metadata": {},
   "source": [
    "## Similarity"
   ]
  },
  {
   "cell_type": "code",
   "execution_count": 28,
   "metadata": {},
   "outputs": [],
   "source": [
    "from keras import backend as K"
   ]
  },
  {
   "cell_type": "code",
   "execution_count": 29,
   "metadata": {},
   "outputs": [],
   "source": [
    "# from sklearn.metrics.pairwise import cosine_similarity\n",
    "from scipy.spatial.distance import cosine as cosine_similarity"
   ]
  },
  {
   "cell_type": "code",
   "execution_count": 30,
   "metadata": {},
   "outputs": [],
   "source": [
    "def similarity(captions_dic, what_are_you_thinking_about, tokenizer_obj,model):\n",
    "    out_={}\n",
    "    max_sim=float('inf')    \n",
    "    you_thinking_about=[what_are_you_thinking_about]\n",
    "    you_thinking_about_tokens=tokenizer_obj.texts_to_sequences(you_thinking_about)\n",
    "    you_thinking_about_pad=pad_sequences(you_thinking_about_tokens, maxlen=114, padding='post')\n",
    "    \n",
    "    \n",
    "    get_1st_layer_output = K.function([model.layers[0].input],[model.layers[0].output])\n",
    "\n",
    "    \n",
    "    you_thinking_about_1st_layer_output = get_1st_layer_output(list(you_thinking_about_pad[0]))[0]\n",
    "    \n",
    "#     a=you_thinking_about_1st_layer_output\n",
    "    \n",
    "    for key, value in captions_dic.items():\n",
    "        value=[value]\n",
    "        value_tokens=tokenizer_obj.texts_to_sequences(value)\n",
    "        value_pad=pad_sequences(value_tokens, maxlen=114, padding='post')\n",
    "        value_1st_layer_output = get_1st_layer_output(list(value_pad[0]))[0]\n",
    "#         print(value_1st_layer_output.shape)\n",
    "#         print(np.array([xi for xi in value_1st_layer_output]))\n",
    "    \n",
    "        sim_=cosine_similarity(you_thinking_about_1st_layer_output,\n",
    "                               value_1st_layer_output)\n",
    "        out_[key]=sim_\n",
    "        \n",
    "        print(sim_)\n",
    "        if sim_<max_sim:\n",
    "            max_sim=sim_\n",
    "            output_pic=key\n",
    "            output_phrase=value\n",
    "            \n",
    "    return  output_pic, output_phrase     "
   ]
  },
  {
   "cell_type": "markdown",
   "metadata": {},
   "source": [
    "## USER INPUT "
   ]
  },
  {
   "cell_type": "code",
   "execution_count": 88,
   "metadata": {},
   "outputs": [],
   "source": [
    "what_are_you_thinking_about = \"Robots might take over the world\""
   ]
  },
  {
   "cell_type": "code",
   "execution_count": 89,
   "metadata": {},
   "outputs": [],
   "source": [
    "photo_folder_path = './photos/'"
   ]
  },
  {
   "cell_type": "markdown",
   "metadata": {},
   "source": [
    "# API "
   ]
  },
  {
   "cell_type": "code",
   "execution_count": 104,
   "metadata": {},
   "outputs": [],
   "source": [
    "personality=classify(what_are_you_thinking_about, persona_dic, loaded_model, tokenizer_obj)"
   ]
  },
  {
   "cell_type": "code",
   "execution_count": 105,
   "metadata": {},
   "outputs": [
    {
     "data": {
      "text/plain": [
       "'Cultured (Refined, Educated)'"
      ]
     },
     "execution_count": 105,
     "metadata": {},
     "output_type": "execute_result"
    }
   ],
   "source": [
    "personality"
   ]
  },
  {
   "cell_type": "code",
   "execution_count": 106,
   "metadata": {},
   "outputs": [],
   "source": [
    "captions_dic=engaging_image_captions(photo_folder_path, personality)"
   ]
  },
  {
   "cell_type": "code",
   "execution_count": 107,
   "metadata": {},
   "outputs": [
    {
     "data": {
      "text/plain": [
       "{'./photos/robots.jpg': 'The glow wands definitely make a statement in the dark night',\n",
       " './photos/zoo.jpg': 'The apes coat is simply marvelous',\n",
       " './photos/adventure.jpg': 'this is a fine trail to hunt for truffles and wild berries',\n",
       " './photos/city.jpg': 'The ancient tombs really highlight the skill of our ancestors. '}"
      ]
     },
     "execution_count": 107,
     "metadata": {},
     "output_type": "execute_result"
    }
   ],
   "source": [
    "captions_dic"
   ]
  },
  {
   "cell_type": "code",
   "execution_count": 108,
   "metadata": {},
   "outputs": [
    {
     "name": "stdout",
     "output_type": "stream",
     "text": [
      "0.8403856307268143\n",
      "0.8403856307268143\n",
      "1.040733590722084\n",
      "0.8403856307268143\n"
     ]
    }
   ],
   "source": [
    "output_pic, output_phrase = similarity(captions_dic, what_are_you_thinking_about, tokenizer_obj, loaded_model)"
   ]
  },
  {
   "cell_type": "markdown",
   "metadata": {},
   "source": [
    "# OUTPUT TO POST"
   ]
  },
  {
   "cell_type": "code",
   "execution_count": 109,
   "metadata": {},
   "outputs": [
    {
     "data": {
      "image/jpeg": "[encoded data removed]",
      "text/plain": [
       "<IPython.core.display.Image object>"
      ]
     },
     "execution_count": 109,
     "metadata": {},
     "output_type": "execute_result"
    }
   ],
   "source": [
    "Image(filename=output_pic) "
   ]
  },
  {
   "cell_type": "code",
   "execution_count": 103,
   "metadata": {},
   "outputs": [
    {
     "data": {
      "text/plain": [
       "'The glow wands definitely make a statement in the dark night'"
      ]
     },
     "execution_count": 103,
     "metadata": {},
     "output_type": "execute_result"
    }
   ],
   "source": [
    "output_phrase[0]"
   ]
  },
  {
   "cell_type": "code",
   "execution_count": null,
   "metadata": {},
   "outputs": [],
   "source": []
  }
 ],
 "metadata": {
  "kernelspec": {
   "display_name": "Python 3",
   "language": "python",
   "name": "python3"
  },
  "language_info": {
   "codemirror_mode": {
    "name": "ipython",
    "version": 3
   },
   "file_extension": ".py",
   "mimetype": "text/x-python",
   "name": "python",
   "nbconvert_exporter": "python",
   "pygments_lexer": "ipython3",
   "version": "3.6.8"
  }
 },
 "nbformat": 4,
 "nbformat_minor": 2
}
